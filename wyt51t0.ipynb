{
 "cells": [
  {
   "cell_type": "markdown",
   "metadata": {},
   "source": [
    "# IT Support Professional Certificate\n",
    "## Technical Support Fundamentals"
   ]
  },
  {
   "cell_type": "markdown",
   "metadata": {},
   "source": [
    "##  Intro to IT"
   ]
  },
  {
   "cell_type": "markdown",
   "metadata": {},
   "source": [
    ">**introduction**\n",
    ">>1. What is IT?\n",
    ">>>IT is essentially the use of digital technology like computers and the internet to store and process data into useful information the IT industy refers to the entire scope of all the areas including education、medicine、journalism、construction、transportation、entertainment. \n",
    "\n",
    ">>2. What does an IT Support specialist do ?\n",
    ">>> Managing、installing、maintaining、troubleshooting、configuring"
   ]
  },
  {
   "cell_type": "markdown",
   "metadata": {},
   "source": [
    ">**History of computing**\n",
    ">>1. From abacus to analytical engine \n",
    ">>>1. computer(A device that stores and processes data by performing calculations)\n",
    "2. Algorithm(A series of steps that solve specific problems)\n",
    "3. Cryptography(The art of writing and solving codes)\n",
    "4. Open source(Anyone could modify and share it) \n",
    "5. Binary system(The communication that a computer uses also know as a base-2 numeral system)"
   ]
  },
  {
   "cell_type": "markdown",
   "metadata": {},
   "source": [
    ">**Digital Logic**\n",
    ">>1. Character encoding\n",
    ">>> defination:Assigns our binary values to characters,so that we as humans can read them. example: utf-8\n",
    ">>Binary\n",
    ">>> Logic gates (Allow our transistors to do more comples tasks, like decide where to send electrical signals depending on logical conditions)\n",
    ">>2. How to Count in Binary\n",
    ">>3. Abstraction\n",
    ">>>defination: To take a relatively complex system and simplify it for our use \n",
    ">>4. Computer Architecture Overview\n",
    ">>>Four main layers: 1. Hardware layer: made up of the physical components of a computer. 2. Operating system:allows hardware tho communicate with the system3. Software layer:hpw we as humans interact with our computer4. User: interacts with the computer"
   ]
  },
  {
   "cell_type": "markdown",
   "metadata": {},
   "source": [
    "---"
   ]
  },
  {
   "cell_type": "markdown",
   "metadata": {},
   "source": [
    "## Hardware##"
   ]
  },
  {
   "cell_type": "markdown",
   "metadata": {},
   "source": [
    ">**The Modern Computer**\n",
    ">>1. Intro to Computer Hardware\n",
    ">>>Ports、CPU(Central Processing Unit)、RAM(Randdom Access Memory)、Hard drive\n",
    ">>2. Programs and Hardware\n",
    ">>>Programs:instrucions that tell the computer what to do;Clock speed:the maximum number of clock cycles that it can handle in a certain time period"
   ]
  },
  {
   "cell_type": "markdown",
   "metadata": {},
   "source": [
    ">**Components**\n",
    ">>1. CPU\n",
    ">>2. Motherboards\n",
    ">>>Peripherals:external devices we connect to our computer,like a mouse,keyboard and monitor\n",
    ">>3. Storage\n",
    ">>4. Power sullplies\n",
    ">>>Wattage:the amount of volts and amps that a device needs\n",
    ">>5. Module introduction"
   ]
  },
  {
   "cell_type": "markdown",
   "metadata": {},
   "source": [
    "---"
   ]
  },
  {
   "cell_type": "markdown",
   "metadata": {},
   "source": [
    "## Operating System"
   ]
  },
  {
   "cell_type": "markdown",
   "metadata": {},
   "source": [
    "> **What's an operating system?**\n",
    ">>1. Components of an Operating System\n",
    ">>>explanation: The whole package that manages our computer's resources and let us interact with it,eg: Windows、Linus、Chrome.*I/O management*  means anyting that can gives input, or that we can use for output of data\n",
    ">>2. File and File System\n",
    ">>>*Block storage:* improves faster handling of data because the data isn't stored as one long piece and can be accessed quicker.*File extension:* The appended part of a filename that tels us what type of file it is in certain operating systems\n",
    ">>3. Process Management\n",
    ">>>*Process:* A program that's executing,like our internet browser or text editor.*Program:* An application that we can run,like Chrome.*Time slice:* A very short interval of time that gets allocated to a process for CPU execution.*Kernal:* Creates process,efficiently schedules them, and manages how processes are terminated.\n",
    ">>4. Memory Management\n",
    ">>>*Virtual memory:* The combination of hard drive space and RAM that acts like memory that our processes can use.\n",
    ">>5. I/O Management\n",
    ">>>*I/O* Devices that perform input and output.When you are troubleshooting or solving a problem with a slow machine,it's usually some sour og hardware resource deficiency\n",
    ">>6. Interacting with the OS User Space\n",
    ">>>*Shell:* Aprogram that interprets text commands and sends them to the OS to execute.\n",
    ">>7. Logs\n",
    ">>>*Logs:* Files that records system events on our computer, just like a system's diary\n",
    ">>8. The Boot Process\n",
    ">>>*BIOS/UEFL:* A low-level software that initializes our computer's hardware to makesure everything is good to go.*Botloader:* A small program that loads the operating system."
   ]
  },
  {
   "cell_type": "markdown",
   "metadata": {},
   "source": [
    ">**Installing on Operating System**\n",
    ">>1. Chosing an Operating System\n",
    ">>>The Operating systems is used by an organization have a lot to do with the applicationgs and systems that they need to run.*Modern operating system* do a pretty good job ogf supporting commmon hardware.\n",
    ">>2. Virtual Machines\n",
    ">>>*VN:* Just a copy of a real machine\n",
    ">>3. Installing Windows"
   ]
  },
  {
   "cell_type": "markdown",
   "metadata": {},
   "source": [
    "---"
   ]
  },
  {
   "cell_type": "markdown",
   "metadata": {},
   "source": [
    "##  Net Working"
   ]
  },
  {
   "cell_type": "markdown",
   "metadata": {},
   "source": [
    ">**What is networking**\n",
    ">>1. Installing Windows\n",
    ">>> *The Internet:* The physical connection of computers and wires around the world.*The Web:* The information on the Internet.\n",
    ">>2. Networking Hardware\n",
    ">>>*Router:* Connects lots of different devices together and helps route network traffic.*Net work stack:* A set of hardware or software that provides the infrastructure for a computer.\n",
    ">>3. Language of the Internet\n",
    ">>>![同一目录下的图片引用](./Language.png)\n",
    ">>4. The Web"
   ]
  },
  {
   "cell_type": "markdown",
   "metadata": {},
   "source": [
    "> **Limitations of the Internet**\n",
    ">>1. History of the Internet\n",
    ">>2. Limatations of the Internet\n",
    ">>>*Network Address Translation:*  Lets organizations use one public IP address and many private IP addresses within the network"
   ]
  },
  {
   "cell_type": "markdown",
   "metadata": {},
   "source": [
    ">**Impact of the Internet**\n",
    ">>1. Impact\n",
    ">>>*Globalization:* The movement that lets governments businesses,and organizations communicate and integrate together on an international scale. \n",
    ">>2. Internet of Things\n",
    ">>3. Privacy and Securities"
   ]
  },
  {
   "cell_type": "markdown",
   "metadata": {},
   "source": [
    "---"
   ]
  },
  {
   "cell_type": "markdown",
   "metadata": {},
   "source": [
    "## Software"
   ]
  },
  {
   "cell_type": "markdown",
   "metadata": {},
   "source": [
    ">**Intro to Software**\n",
    ">>1. Whtat is Sftware\n",
    ">>>*Coding:* Translating one language to another.*Scripting:* Coding in a scripting language *Programming:* Coding in a programming language.*Programming Language:* Special languages that software developers use to write instructions for computers to execute.\n",
    ">>2. Types of Software\n",
    ">>>*Copyrite:* Used when creating original work.*Application software* 、*System software* 、*Firmware*\n",
    ">>3. Recipe for Computing\n",
    ">>>*Assembly language*、*Complied programming languages*"
   ]
  },
  {
   "cell_type": "markdown",
   "metadata": {},
   "source": [
    ">**Interacting with Software**\n",
    ">>1. Managing Software\n",
    ">>>*Software bug:* An error in softeware that causes unexpected results\n",
    ">>2. Installing、Updating、 and Removing Software on Windows\n",
    ">>>*Git*、*.exe*\n",
    ">>3. Software Automation\n",
    ">>>*Software Automation:* Makes processes work aoutomatically"
   ]
  },
  {
   "cell_type": "markdown",
   "metadata": {},
   "source": [
    "---"
   ]
  },
  {
   "cell_type": "markdown",
   "metadata": {},
   "source": [
    "## Troubleshooting"
   ]
  },
  {
   "cell_type": "markdown",
   "metadata": {},
   "source": [
    ">**Troubleshooting Best Practices**\n",
    ">>1. Module Introduction\n",
    ">>2. Ask Qusetions\n",
    ">>>*Troubleshooting*、*Not-so-awesome scenario*\n",
    ">>3. Isolating the Problem\n",
    ">>>*Root cause:* The main factor that's causing a range of issues\n",
    ">>4. Follow the Cookie Crumbs\n",
    ">>5. Start with Quickest Step First\n",
    ">>6. Troubleshooting Pitfalls to Avoid\n",
    ">>>*Pitfall#1:* Going into autopilot、*Pitfall #2:* Not finding the root cause"
   ]
  },
  {
   "cell_type": "markdown",
   "metadata": {},
   "source": [
    ">**Customer Service**\n",
    ">>1. Intro to Soft Skills\n",
    ">>2. Anatomy of an interaction\n",
    ">>3. How to deal with Difficult Situations"
   ]
  },
  {
   "cell_type": "markdown",
   "metadata": {},
   "source": [
    ">**Documentation**"
   ]
  },
  {
   "cell_type": "code",
   "execution_count": null,
   "metadata": {},
   "outputs": [],
   "source": []
  },
  {
   "cell_type": "code",
   "execution_count": null,
   "metadata": {},
   "outputs": [],
   "source": []
  },
  {
   "cell_type": "code",
   "execution_count": null,
   "metadata": {},
   "outputs": [],
   "source": []
  },
  {
   "cell_type": "code",
   "execution_count": null,
   "metadata": {},
   "outputs": [],
   "source": []
  },
  {
   "cell_type": "code",
   "execution_count": null,
   "metadata": {},
   "outputs": [],
   "source": []
  },
  {
   "cell_type": "code",
   "execution_count": null,
   "metadata": {},
   "outputs": [],
   "source": []
  }
 ],
 "metadata": {
  "kernelspec": {
   "display_name": "Python 3",
   "language": "python",
   "name": "python3"
  },
  "language_info": {
   "codemirror_mode": {
    "name": "ipython",
    "version": 3
   },
   "file_extension": ".py",
   "mimetype": "text/x-python",
   "name": "python",
   "nbconvert_exporter": "python",
   "pygments_lexer": "ipython3",
   "version": "3.6.7"
  }
 },
 "nbformat": 4,
 "nbformat_minor": 2
}
